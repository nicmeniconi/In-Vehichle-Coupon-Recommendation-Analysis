{
 "cells": [
  {
   "cell_type": "markdown",
   "metadata": {},
   "source": [
    "### Will a Customer Accept the Coupon?\n",
    "\n",
    "**Context**\n",
    "\n",
    "Imagine driving through town and a coupon is delivered to your cell phone for a restaraunt near where you are driving. Would you accept that coupon and take a short detour to the restaraunt? Would you accept the coupon but use it on a sunbsequent trip? Would you ignore the coupon entirely? What if the coupon was for a bar instead of a restaraunt? What about a coffee house? Would you accept a bar coupon with a minor passenger in the car? What about if it was just you and your partner in the car? Would weather impact the rate of acceptance? What about the time of day?\n",
    "\n",
    "Obviously, proximity to the business is a factor on whether the coupon is delivered to the driver or not, but what are the factors that determine whether a driver accepts the coupon once it is delivered to them? How would you determine whether a driver is likely to accept a coupon?\n",
    "\n",
    "**Overview**\n",
    "\n",
    "The goal of this project is to use what you know about visualizations and probability distributions to distinguish between customers who accepted a driving coupon versus those that did not.\n",
    "\n",
    "**Data**\n",
    "\n",
    "This data comes to us from the UCI Machine Learning repository and was collected via a survey on Amazon Mechanical Turk. The survey describes different driving scenarios including the destination, current time, weather, passenger, etc., and then ask the person whether he will accept the coupon if he is the driver. Answers that the user will drive there ‘right away’ or ‘later before the coupon expires’ are labeled as ‘Y = 1’ and answers ‘no, I do not want the coupon’ are labeled as ‘Y = 0’.  There are five different types of coupons -- less expensive restaurants (under \\\\$20), coffee houses, carry out & take away, bar, and more expensive restaurants (\\\\$20 - \\\\$50). "
   ]
  },
  {
   "cell_type": "markdown",
   "metadata": {},
   "source": [
    "**Deliverables**\n",
    "\n",
    "Your final product should be a brief report that highlights the differences between customers who did and did not accept the coupons.  To explore the data you will utilize your knowledge of plotting, statistical summaries, and visualization using Python. You will publish your findings in a public facing github repository as your first portfolio piece. \n",
    "\n",
    "\n",
    "\n"
   ]
  },
  {
   "cell_type": "markdown",
   "metadata": {},
   "source": [
    "### Data Description\n",
    "Keep in mind that these values mentioned below are average values.\n",
    "\n",
    "The attributes of this data set include:\n",
    "1. User attributes\n",
    "    -  Gender: male, female\n",
    "    -  Age: below 21, 21 to 25, 26 to 30, etc.\n",
    "    -  Marital Status: single, married partner, unmarried partner, or widowed\n",
    "    -  Number of children: 0, 1, or more than 1\n",
    "    -  Education: high school, bachelors degree, associates degree, or graduate degree\n",
    "    -  Occupation: architecture & engineering, business & financial, etc.\n",
    "    -  Annual income: less than \\\\$12500, \\\\$12500 - \\\\$24999, \\\\$25000 - \\\\$37499, etc.\n",
    "    -  Number of times that he/she goes to a bar: 0, less than 1, 1 to 3, 4 to 8 or greater than 8\n",
    "    -  Number of times that he/she buys takeaway food: 0, less than 1, 1 to 3, 4 to 8 or greater\n",
    "    than 8\n",
    "    -  Number of times that he/she goes to a coffee house: 0, less than 1, 1 to 3, 4 to 8 or\n",
    "    greater than 8\n",
    "    -  Number of times that he/she eats at a restaurant with average expense less than \\\\$20 per\n",
    "    person: 0, less than 1, 1 to 3, 4 to 8 or greater than 8\n",
    "    -  Number of times that he/she goes to a bar: 0, less than 1, 1 to 3, 4 to 8 or greater than 8\n",
    "    \n",
    "\n",
    "2. Contextual attributes\n",
    "    - Driving destination: home, work, or no urgent destination\n",
    "    - Location of user, coupon and destination: we provide a map to show the geographical\n",
    "    location of the user, destination, and the venue, and we mark the distance between each\n",
    "    two places with time of driving. The user can see whether the venue is in the same\n",
    "    direction as the destination.\n",
    "    - Weather: sunny, rainy, or snowy\n",
    "    - Temperature: 30F, 55F, or 80F\n",
    "    - Time: 10AM, 2PM, or 6PM\n",
    "    - Passenger: alone, partner, kid(s), or friend(s)\n",
    "\n",
    "\n",
    "3. Coupon attributes\n",
    "    - time before it expires: 2 hours or one day"
   ]
  },
  {
   "cell_type": "code",
   "execution_count": 581,
   "metadata": {},
   "outputs": [],
   "source": [
    "import matplotlib.pyplot as plt\n",
    "import seaborn as sns\n",
    "import pandas as pd\n",
    "import numpy as np"
   ]
  },
  {
   "cell_type": "markdown",
   "metadata": {},
   "source": [
    "### Problems\n",
    "\n",
    "Use the prompts below to get started with your data analysis.  \n",
    "\n",
    "1. Read in the `coupons.csv` file.\n",
    "\n",
    "\n"
   ]
  },
  {
   "cell_type": "code",
   "execution_count": 583,
   "metadata": {},
   "outputs": [],
   "source": [
    "data = pd.read_csv('data/coupons.csv')"
   ]
  },
  {
   "cell_type": "code",
   "execution_count": 584,
   "metadata": {},
   "outputs": [
    {
     "data": {
      "text/html": [
       "<div>\n",
       "<style scoped>\n",
       "    .dataframe tbody tr th:only-of-type {\n",
       "        vertical-align: middle;\n",
       "    }\n",
       "\n",
       "    .dataframe tbody tr th {\n",
       "        vertical-align: top;\n",
       "    }\n",
       "\n",
       "    .dataframe thead th {\n",
       "        text-align: right;\n",
       "    }\n",
       "</style>\n",
       "<table border=\"1\" class=\"dataframe\">\n",
       "  <thead>\n",
       "    <tr style=\"text-align: right;\">\n",
       "      <th></th>\n",
       "      <th>destination</th>\n",
       "      <th>passanger</th>\n",
       "      <th>weather</th>\n",
       "      <th>temperature</th>\n",
       "      <th>time</th>\n",
       "      <th>coupon</th>\n",
       "      <th>expiration</th>\n",
       "      <th>gender</th>\n",
       "      <th>age</th>\n",
       "      <th>maritalStatus</th>\n",
       "      <th>...</th>\n",
       "      <th>CoffeeHouse</th>\n",
       "      <th>CarryAway</th>\n",
       "      <th>RestaurantLessThan20</th>\n",
       "      <th>Restaurant20To50</th>\n",
       "      <th>toCoupon_GEQ5min</th>\n",
       "      <th>toCoupon_GEQ15min</th>\n",
       "      <th>toCoupon_GEQ25min</th>\n",
       "      <th>direction_same</th>\n",
       "      <th>direction_opp</th>\n",
       "      <th>Y</th>\n",
       "    </tr>\n",
       "  </thead>\n",
       "  <tbody>\n",
       "    <tr>\n",
       "      <th>0</th>\n",
       "      <td>No Urgent Place</td>\n",
       "      <td>Alone</td>\n",
       "      <td>Sunny</td>\n",
       "      <td>55</td>\n",
       "      <td>2PM</td>\n",
       "      <td>Restaurant(&lt;20)</td>\n",
       "      <td>1d</td>\n",
       "      <td>Female</td>\n",
       "      <td>21</td>\n",
       "      <td>Unmarried partner</td>\n",
       "      <td>...</td>\n",
       "      <td>never</td>\n",
       "      <td>NaN</td>\n",
       "      <td>4~8</td>\n",
       "      <td>1~3</td>\n",
       "      <td>1</td>\n",
       "      <td>0</td>\n",
       "      <td>0</td>\n",
       "      <td>0</td>\n",
       "      <td>1</td>\n",
       "      <td>1</td>\n",
       "    </tr>\n",
       "    <tr>\n",
       "      <th>1</th>\n",
       "      <td>No Urgent Place</td>\n",
       "      <td>Friend(s)</td>\n",
       "      <td>Sunny</td>\n",
       "      <td>80</td>\n",
       "      <td>10AM</td>\n",
       "      <td>Coffee House</td>\n",
       "      <td>2h</td>\n",
       "      <td>Female</td>\n",
       "      <td>21</td>\n",
       "      <td>Unmarried partner</td>\n",
       "      <td>...</td>\n",
       "      <td>never</td>\n",
       "      <td>NaN</td>\n",
       "      <td>4~8</td>\n",
       "      <td>1~3</td>\n",
       "      <td>1</td>\n",
       "      <td>0</td>\n",
       "      <td>0</td>\n",
       "      <td>0</td>\n",
       "      <td>1</td>\n",
       "      <td>0</td>\n",
       "    </tr>\n",
       "    <tr>\n",
       "      <th>2</th>\n",
       "      <td>No Urgent Place</td>\n",
       "      <td>Friend(s)</td>\n",
       "      <td>Sunny</td>\n",
       "      <td>80</td>\n",
       "      <td>10AM</td>\n",
       "      <td>Carry out &amp; Take away</td>\n",
       "      <td>2h</td>\n",
       "      <td>Female</td>\n",
       "      <td>21</td>\n",
       "      <td>Unmarried partner</td>\n",
       "      <td>...</td>\n",
       "      <td>never</td>\n",
       "      <td>NaN</td>\n",
       "      <td>4~8</td>\n",
       "      <td>1~3</td>\n",
       "      <td>1</td>\n",
       "      <td>1</td>\n",
       "      <td>0</td>\n",
       "      <td>0</td>\n",
       "      <td>1</td>\n",
       "      <td>1</td>\n",
       "    </tr>\n",
       "    <tr>\n",
       "      <th>3</th>\n",
       "      <td>No Urgent Place</td>\n",
       "      <td>Friend(s)</td>\n",
       "      <td>Sunny</td>\n",
       "      <td>80</td>\n",
       "      <td>2PM</td>\n",
       "      <td>Coffee House</td>\n",
       "      <td>2h</td>\n",
       "      <td>Female</td>\n",
       "      <td>21</td>\n",
       "      <td>Unmarried partner</td>\n",
       "      <td>...</td>\n",
       "      <td>never</td>\n",
       "      <td>NaN</td>\n",
       "      <td>4~8</td>\n",
       "      <td>1~3</td>\n",
       "      <td>1</td>\n",
       "      <td>1</td>\n",
       "      <td>0</td>\n",
       "      <td>0</td>\n",
       "      <td>1</td>\n",
       "      <td>0</td>\n",
       "    </tr>\n",
       "    <tr>\n",
       "      <th>4</th>\n",
       "      <td>No Urgent Place</td>\n",
       "      <td>Friend(s)</td>\n",
       "      <td>Sunny</td>\n",
       "      <td>80</td>\n",
       "      <td>2PM</td>\n",
       "      <td>Coffee House</td>\n",
       "      <td>1d</td>\n",
       "      <td>Female</td>\n",
       "      <td>21</td>\n",
       "      <td>Unmarried partner</td>\n",
       "      <td>...</td>\n",
       "      <td>never</td>\n",
       "      <td>NaN</td>\n",
       "      <td>4~8</td>\n",
       "      <td>1~3</td>\n",
       "      <td>1</td>\n",
       "      <td>1</td>\n",
       "      <td>0</td>\n",
       "      <td>0</td>\n",
       "      <td>1</td>\n",
       "      <td>0</td>\n",
       "    </tr>\n",
       "  </tbody>\n",
       "</table>\n",
       "<p>5 rows × 26 columns</p>\n",
       "</div>"
      ],
      "text/plain": [
       "       destination  passanger weather  temperature  time  \\\n",
       "0  No Urgent Place      Alone   Sunny           55   2PM   \n",
       "1  No Urgent Place  Friend(s)   Sunny           80  10AM   \n",
       "2  No Urgent Place  Friend(s)   Sunny           80  10AM   \n",
       "3  No Urgent Place  Friend(s)   Sunny           80   2PM   \n",
       "4  No Urgent Place  Friend(s)   Sunny           80   2PM   \n",
       "\n",
       "                  coupon expiration  gender age      maritalStatus  ...  \\\n",
       "0        Restaurant(<20)         1d  Female  21  Unmarried partner  ...   \n",
       "1           Coffee House         2h  Female  21  Unmarried partner  ...   \n",
       "2  Carry out & Take away         2h  Female  21  Unmarried partner  ...   \n",
       "3           Coffee House         2h  Female  21  Unmarried partner  ...   \n",
       "4           Coffee House         1d  Female  21  Unmarried partner  ...   \n",
       "\n",
       "   CoffeeHouse CarryAway RestaurantLessThan20 Restaurant20To50  \\\n",
       "0        never       NaN                  4~8              1~3   \n",
       "1        never       NaN                  4~8              1~3   \n",
       "2        never       NaN                  4~8              1~3   \n",
       "3        never       NaN                  4~8              1~3   \n",
       "4        never       NaN                  4~8              1~3   \n",
       "\n",
       "  toCoupon_GEQ5min toCoupon_GEQ15min toCoupon_GEQ25min direction_same  \\\n",
       "0                1                 0                 0              0   \n",
       "1                1                 0                 0              0   \n",
       "2                1                 1                 0              0   \n",
       "3                1                 1                 0              0   \n",
       "4                1                 1                 0              0   \n",
       "\n",
       "  direction_opp  Y  \n",
       "0             1  1  \n",
       "1             1  0  \n",
       "2             1  1  \n",
       "3             1  0  \n",
       "4             1  0  \n",
       "\n",
       "[5 rows x 26 columns]"
      ]
     },
     "execution_count": 584,
     "metadata": {},
     "output_type": "execute_result"
    }
   ],
   "source": [
    "data.head()"
   ]
  },
  {
   "cell_type": "code",
   "execution_count": 585,
   "metadata": {},
   "outputs": [
    {
     "name": "stdout",
     "output_type": "stream",
     "text": [
      "<class 'pandas.core.frame.DataFrame'>\n",
      "RangeIndex: 12684 entries, 0 to 12683\n",
      "Data columns (total 26 columns):\n",
      " #   Column                Non-Null Count  Dtype \n",
      "---  ------                --------------  ----- \n",
      " 0   destination           12684 non-null  object\n",
      " 1   passanger             12684 non-null  object\n",
      " 2   weather               12684 non-null  object\n",
      " 3   temperature           12684 non-null  int64 \n",
      " 4   time                  12684 non-null  object\n",
      " 5   coupon                12684 non-null  object\n",
      " 6   expiration            12684 non-null  object\n",
      " 7   gender                12684 non-null  object\n",
      " 8   age                   12684 non-null  object\n",
      " 9   maritalStatus         12684 non-null  object\n",
      " 10  has_children          12684 non-null  int64 \n",
      " 11  education             12684 non-null  object\n",
      " 12  occupation            12684 non-null  object\n",
      " 13  income                12684 non-null  object\n",
      " 14  car                   108 non-null    object\n",
      " 15  Bar                   12577 non-null  object\n",
      " 16  CoffeeHouse           12467 non-null  object\n",
      " 17  CarryAway             12533 non-null  object\n",
      " 18  RestaurantLessThan20  12554 non-null  object\n",
      " 19  Restaurant20To50      12495 non-null  object\n",
      " 20  toCoupon_GEQ5min      12684 non-null  int64 \n",
      " 21  toCoupon_GEQ15min     12684 non-null  int64 \n",
      " 22  toCoupon_GEQ25min     12684 non-null  int64 \n",
      " 23  direction_same        12684 non-null  int64 \n",
      " 24  direction_opp         12684 non-null  int64 \n",
      " 25  Y                     12684 non-null  int64 \n",
      "dtypes: int64(8), object(18)\n",
      "memory usage: 2.5+ MB\n"
     ]
    }
   ],
   "source": [
    "data.info()"
   ]
  },
  {
   "cell_type": "markdown",
   "metadata": {},
   "source": [
    "2. Investigate the dataset for missing or problematic data."
   ]
  },
  {
   "cell_type": "code",
   "execution_count": 587,
   "metadata": {},
   "outputs": [
    {
     "name": "stdout",
     "output_type": "stream",
     "text": [
      "destination: ['No Urgent Place' 'Home' 'Work'] \n",
      "\n",
      "passanger: ['Alone' 'Friend(s)' 'Kid(s)' 'Partner'] \n",
      "\n",
      "weather: ['Sunny' 'Rainy' 'Snowy'] \n",
      "\n",
      "temperature: [55 80 30] \n",
      "\n",
      "time: ['2PM' '10AM' '6PM' '7AM' '10PM'] \n",
      "\n",
      "coupon: ['Restaurant(<20)' 'Coffee House' 'Carry out & Take away' 'Bar'\n",
      " 'Restaurant(20-50)'] \n",
      "\n",
      "expiration: ['1d' '2h'] \n",
      "\n",
      "gender: ['Female' 'Male'] \n",
      "\n",
      "age: ['21' '46' '26' '31' '41' '50plus' '36' 'below21'] \n",
      "\n",
      "marital status: ['Unmarried partner' 'Single' 'Married partner' 'Divorced' 'Widowed'] \n",
      "\n",
      "has children: [1 0] \n",
      "\n",
      "education: ['Some college - no degree' 'Bachelors degree' 'Associates degree'\n",
      " 'High School Graduate' 'Graduate degree (Masters or Doctorate)'\n",
      " 'Some High School'] \n",
      "\n",
      "occupation: ['Unemployed' 'Architecture & Engineering' 'Student'\n",
      " 'Education&Training&Library' 'Healthcare Support'\n",
      " 'Healthcare Practitioners & Technical' 'Sales & Related' 'Management'\n",
      " 'Arts Design Entertainment Sports & Media' 'Computer & Mathematical'\n",
      " 'Life Physical Social Science' 'Personal Care & Service'\n",
      " 'Community & Social Services' 'Office & Administrative Support'\n",
      " 'Construction & Extraction' 'Legal' 'Retired'\n",
      " 'Installation Maintenance & Repair' 'Transportation & Material Moving'\n",
      " 'Business & Financial' 'Protective Service'\n",
      " 'Food Preparation & Serving Related' 'Production Occupations'\n",
      " 'Building & Grounds Cleaning & Maintenance' 'Farming Fishing & Forestry'] \n",
      "\n",
      "income: ['$37500 - $49999' '$62500 - $74999' '$12500 - $24999' '$75000 - $87499'\n",
      " '$50000 - $62499' '$25000 - $37499' '$100000 or More' '$87500 - $99999'\n",
      " 'Less than $12500'] \n",
      "\n",
      "car: [nan 'Scooter and motorcycle' 'crossover' 'Mazda5' 'do not drive'\n",
      " 'Car that is too old to install Onstar :D'] \n",
      "\n",
      "Bar: ['never' 'less1' '1~3' 'gt8' nan '4~8'] \n",
      "\n",
      "Coffee House: ['never' 'less1' '4~8' '1~3' 'gt8' nan] \n",
      "\n",
      "Carry Away: [nan '4~8' '1~3' 'gt8' 'less1' 'never'] \n",
      "\n",
      "Rest less than 20: ['4~8' '1~3' 'less1' 'gt8' nan 'never'] \n",
      "\n",
      "Rest 20 to 50: ['1~3' 'less1' 'never' 'gt8' '4~8' nan] \n",
      "\n",
      "driving distance to restaurant/bar greater than 5 minutes: [1] \n",
      "\n",
      "driving distance to restaurant/bar greater than 15 minutes: [0 1] \n",
      "\n",
      "driving distance to restaurant/bar greater than 25 minutes: [0 1] \n",
      "\n",
      "direction same: [0 1] \n",
      "\n",
      "direction opp: [1 0] \n",
      "\n",
      "user will drive there vs not [1 0] \n",
      "\n"
     ]
    }
   ],
   "source": [
    "# Unique values in each column\n",
    "# Data description: https://archive.ics.uci.edu/dataset/603/in+vehicle+coupon+recommendation\n",
    "print('destination:', data['destination'].unique(), '\\n')\n",
    "print('passanger:', data['passanger'].unique(), '\\n')\n",
    "print('weather:', data['weather'].unique(), '\\n')\n",
    "print('temperature:', data['temperature'].unique(), '\\n')\n",
    "print('time:', data['time'].unique(), '\\n')\n",
    "print('coupon:', data['coupon'].unique(), '\\n')\n",
    "print('expiration:', data['expiration'].unique(), '\\n')\n",
    "print('gender:', data['gender'].unique(), '\\n')\n",
    "print('age:', data['age'].unique(), '\\n')\n",
    "print('marital status:', data['maritalStatus'].unique(), '\\n')\n",
    "print('has children:', data['has_children'].unique(), '\\n')\n",
    "print('education:', data['education'].unique(), '\\n')\n",
    "print('occupation:', data['occupation'].unique(), '\\n')\n",
    "print('income:', data['income'].unique(), '\\n')\n",
    "print('car:', data['car'].unique(), '\\n')\n",
    "print('Bar:', data['Bar'].unique(), '\\n')\n",
    "print('Coffee House:', data['CoffeeHouse'].unique(), '\\n')\n",
    "print('Carry Away:', data['CarryAway'].unique(), '\\n')\n",
    "print('Rest less than 20:', data['RestaurantLessThan20'].unique(), '\\n')\n",
    "print('Rest 20 to 50:', data['Restaurant20To50'].unique(), '\\n')\n",
    "print('driving distance to restaurant/bar greater than 5 minutes:', data['toCoupon_GEQ5min'].unique(), '\\n')\n",
    "print('driving distance to restaurant/bar greater than 15 minutes:', data['toCoupon_GEQ15min'].unique(), '\\n')\n",
    "print('driving distance to restaurant/bar greater than 25 minutes:', data['toCoupon_GEQ25min'].unique(), '\\n')\n",
    "print('direction same:', data['direction_same'].unique(), '\\n')\n",
    "print('direction opp:', data['direction_opp'].unique(), '\\n')\n",
    "print('user will drive there vs not', data['Y'].unique(), '\\n')"
   ]
  },
  {
   "cell_type": "code",
   "execution_count": 588,
   "metadata": {},
   "outputs": [],
   "source": [
    "# 'toCoupon_GEQ5min' only has one value, remove column\n",
    "data = data.drop(columns='toCoupon_GEQ5min')"
   ]
  },
  {
   "cell_type": "markdown",
   "metadata": {},
   "source": [
    "3. Decide what to do about your missing data -- drop, replace, other..."
   ]
  },
  {
   "cell_type": "code",
   "execution_count": 590,
   "metadata": {},
   "outputs": [
    {
     "data": {
      "text/plain": [
       "destination             False\n",
       "passanger               False\n",
       "weather                 False\n",
       "temperature             False\n",
       "time                    False\n",
       "coupon                  False\n",
       "expiration              False\n",
       "gender                  False\n",
       "age                     False\n",
       "maritalStatus           False\n",
       "has_children            False\n",
       "education               False\n",
       "occupation              False\n",
       "income                  False\n",
       "car                      True\n",
       "Bar                      True\n",
       "CoffeeHouse              True\n",
       "CarryAway                True\n",
       "RestaurantLessThan20     True\n",
       "Restaurant20To50         True\n",
       "toCoupon_GEQ15min       False\n",
       "toCoupon_GEQ25min       False\n",
       "direction_same          False\n",
       "direction_opp           False\n",
       "Y                       False\n",
       "dtype: bool"
      ]
     },
     "execution_count": 590,
     "metadata": {},
     "output_type": "execute_result"
    }
   ],
   "source": [
    "# Find what columns have nans\n",
    "data.isna().any()"
   ]
  },
  {
   "cell_type": "code",
   "execution_count": 591,
   "metadata": {},
   "outputs": [
    {
     "name": "stdout",
     "output_type": "stream",
     "text": [
      "12684\n",
      "108\n"
     ]
    }
   ],
   "source": [
    "data_clean1 = data.dropna()\n",
    "print(len(data))\n",
    "print(len(data_clean1))\n",
    "# Dataset has too many nan values to simply drop all nans"
   ]
  },
  {
   "cell_type": "code",
   "execution_count": 592,
   "metadata": {},
   "outputs": [
    {
     "data": {
      "text/plain": [
       "([0, 1, 2, 3, 4, 5],\n",
       " [Text(0, 0, 'car'),\n",
       "  Text(1, 0, 'Bar'),\n",
       "  Text(2, 0, 'CoffeeHouse'),\n",
       "  Text(3, 0, 'CarryAway'),\n",
       "  Text(4, 0, 'RestaurantLessThan20'),\n",
       "  Text(5, 0, 'Restaurant20To50')])"
      ]
     },
     "execution_count": 592,
     "metadata": {},
     "output_type": "execute_result"
    },
    {
     "data": {
      "image/png": "[encoded data removed]",
      "text/plain": [
       "<Figure size 640x480 with 1 Axes>"
      ]
     },
     "metadata": {},
     "output_type": "display_data"
    }
   ],
   "source": [
    "# Plot how many nans each column has\n",
    "# for col in data.columns:\n",
    "#     print(col)\n",
    "\n",
    "nans = [data[col].isnull().sum() for col in data.columns]\n",
    "nan_counts = pd.DataFrame({'Labels': data.columns, 'nans': nans})\n",
    "nan_counts = nan_counts.query('nans != 0')\n",
    "sns.barplot(x='Labels', y='nans', data=nan_counts)\n",
    "plt.xticks(rotation=45)"
   ]
  },
  {
   "cell_type": "code",
   "execution_count": 593,
   "metadata": {},
   "outputs": [],
   "source": [
    "# Because the car column has a lot more nan values than the other variables, we will drop that feature and then remove the other rows with nan values\n",
    "data_clean2 = data.drop(columns='car')"
   ]
  },
  {
   "cell_type": "code",
   "execution_count": 594,
   "metadata": {},
   "outputs": [],
   "source": [
    "data_clean2 = data_clean2.dropna()"
   ]
  },
  {
   "cell_type": "code",
   "execution_count": 595,
   "metadata": {},
   "outputs": [
    {
     "name": "stdout",
     "output_type": "stream",
     "text": [
      "12079\n",
      "12684\n"
     ]
    }
   ],
   "source": [
    "print(len(data_clean2))\n",
    "print(len(data))"
   ]
  },
  {
   "cell_type": "code",
   "execution_count": 596,
   "metadata": {},
   "outputs": [
    {
     "data": {
      "text/html": [
       "<div>\n",
       "<style scoped>\n",
       "    .dataframe tbody tr th:only-of-type {\n",
       "        vertical-align: middle;\n",
       "    }\n",
       "\n",
       "    .dataframe tbody tr th {\n",
       "        vertical-align: top;\n",
       "    }\n",
       "\n",
       "    .dataframe thead th {\n",
       "        text-align: right;\n",
       "    }\n",
       "</style>\n",
       "<table border=\"1\" class=\"dataframe\">\n",
       "  <thead>\n",
       "    <tr style=\"text-align: right;\">\n",
       "      <th></th>\n",
       "      <th>destination</th>\n",
       "      <th>passanger</th>\n",
       "      <th>weather</th>\n",
       "      <th>temperature</th>\n",
       "      <th>time</th>\n",
       "      <th>coupon</th>\n",
       "      <th>expiration</th>\n",
       "      <th>gender</th>\n",
       "      <th>age</th>\n",
       "      <th>maritalStatus</th>\n",
       "      <th>...</th>\n",
       "      <th>Bar</th>\n",
       "      <th>CoffeeHouse</th>\n",
       "      <th>CarryAway</th>\n",
       "      <th>RestaurantLessThan20</th>\n",
       "      <th>Restaurant20To50</th>\n",
       "      <th>toCoupon_GEQ15min</th>\n",
       "      <th>toCoupon_GEQ25min</th>\n",
       "      <th>direction_same</th>\n",
       "      <th>direction_opp</th>\n",
       "      <th>Y</th>\n",
       "    </tr>\n",
       "  </thead>\n",
       "  <tbody>\n",
       "    <tr>\n",
       "      <th>22</th>\n",
       "      <td>No Urgent Place</td>\n",
       "      <td>Alone</td>\n",
       "      <td>Sunny</td>\n",
       "      <td>55</td>\n",
       "      <td>2PM</td>\n",
       "      <td>Restaurant(&lt;20)</td>\n",
       "      <td>1d</td>\n",
       "      <td>Male</td>\n",
       "      <td>21</td>\n",
       "      <td>Single</td>\n",
       "      <td>...</td>\n",
       "      <td>never</td>\n",
       "      <td>less1</td>\n",
       "      <td>4~8</td>\n",
       "      <td>4~8</td>\n",
       "      <td>less1</td>\n",
       "      <td>0</td>\n",
       "      <td>0</td>\n",
       "      <td>0</td>\n",
       "      <td>1</td>\n",
       "      <td>1</td>\n",
       "    </tr>\n",
       "    <tr>\n",
       "      <th>23</th>\n",
       "      <td>No Urgent Place</td>\n",
       "      <td>Friend(s)</td>\n",
       "      <td>Sunny</td>\n",
       "      <td>80</td>\n",
       "      <td>10AM</td>\n",
       "      <td>Coffee House</td>\n",
       "      <td>2h</td>\n",
       "      <td>Male</td>\n",
       "      <td>21</td>\n",
       "      <td>Single</td>\n",
       "      <td>...</td>\n",
       "      <td>never</td>\n",
       "      <td>less1</td>\n",
       "      <td>4~8</td>\n",
       "      <td>4~8</td>\n",
       "      <td>less1</td>\n",
       "      <td>0</td>\n",
       "      <td>0</td>\n",
       "      <td>0</td>\n",
       "      <td>1</td>\n",
       "      <td>0</td>\n",
       "    </tr>\n",
       "    <tr>\n",
       "      <th>24</th>\n",
       "      <td>No Urgent Place</td>\n",
       "      <td>Friend(s)</td>\n",
       "      <td>Sunny</td>\n",
       "      <td>80</td>\n",
       "      <td>10AM</td>\n",
       "      <td>Bar</td>\n",
       "      <td>1d</td>\n",
       "      <td>Male</td>\n",
       "      <td>21</td>\n",
       "      <td>Single</td>\n",
       "      <td>...</td>\n",
       "      <td>never</td>\n",
       "      <td>less1</td>\n",
       "      <td>4~8</td>\n",
       "      <td>4~8</td>\n",
       "      <td>less1</td>\n",
       "      <td>0</td>\n",
       "      <td>0</td>\n",
       "      <td>0</td>\n",
       "      <td>1</td>\n",
       "      <td>1</td>\n",
       "    </tr>\n",
       "    <tr>\n",
       "      <th>25</th>\n",
       "      <td>No Urgent Place</td>\n",
       "      <td>Friend(s)</td>\n",
       "      <td>Sunny</td>\n",
       "      <td>80</td>\n",
       "      <td>10AM</td>\n",
       "      <td>Carry out &amp; Take away</td>\n",
       "      <td>2h</td>\n",
       "      <td>Male</td>\n",
       "      <td>21</td>\n",
       "      <td>Single</td>\n",
       "      <td>...</td>\n",
       "      <td>never</td>\n",
       "      <td>less1</td>\n",
       "      <td>4~8</td>\n",
       "      <td>4~8</td>\n",
       "      <td>less1</td>\n",
       "      <td>1</td>\n",
       "      <td>0</td>\n",
       "      <td>0</td>\n",
       "      <td>1</td>\n",
       "      <td>0</td>\n",
       "    </tr>\n",
       "    <tr>\n",
       "      <th>26</th>\n",
       "      <td>No Urgent Place</td>\n",
       "      <td>Friend(s)</td>\n",
       "      <td>Sunny</td>\n",
       "      <td>80</td>\n",
       "      <td>2PM</td>\n",
       "      <td>Coffee House</td>\n",
       "      <td>1d</td>\n",
       "      <td>Male</td>\n",
       "      <td>21</td>\n",
       "      <td>Single</td>\n",
       "      <td>...</td>\n",
       "      <td>never</td>\n",
       "      <td>less1</td>\n",
       "      <td>4~8</td>\n",
       "      <td>4~8</td>\n",
       "      <td>less1</td>\n",
       "      <td>0</td>\n",
       "      <td>0</td>\n",
       "      <td>0</td>\n",
       "      <td>1</td>\n",
       "      <td>0</td>\n",
       "    </tr>\n",
       "  </tbody>\n",
       "</table>\n",
       "<p>5 rows × 24 columns</p>\n",
       "</div>"
      ],
      "text/plain": [
       "        destination  passanger weather  temperature  time  \\\n",
       "22  No Urgent Place      Alone   Sunny           55   2PM   \n",
       "23  No Urgent Place  Friend(s)   Sunny           80  10AM   \n",
       "24  No Urgent Place  Friend(s)   Sunny           80  10AM   \n",
       "25  No Urgent Place  Friend(s)   Sunny           80  10AM   \n",
       "26  No Urgent Place  Friend(s)   Sunny           80   2PM   \n",
       "\n",
       "                   coupon expiration gender age maritalStatus  ...    Bar  \\\n",
       "22        Restaurant(<20)         1d   Male  21        Single  ...  never   \n",
       "23           Coffee House         2h   Male  21        Single  ...  never   \n",
       "24                    Bar         1d   Male  21        Single  ...  never   \n",
       "25  Carry out & Take away         2h   Male  21        Single  ...  never   \n",
       "26           Coffee House         1d   Male  21        Single  ...  never   \n",
       "\n",
       "   CoffeeHouse CarryAway RestaurantLessThan20 Restaurant20To50  \\\n",
       "22       less1       4~8                  4~8            less1   \n",
       "23       less1       4~8                  4~8            less1   \n",
       "24       less1       4~8                  4~8            less1   \n",
       "25       less1       4~8                  4~8            less1   \n",
       "26       less1       4~8                  4~8            less1   \n",
       "\n",
       "   toCoupon_GEQ15min toCoupon_GEQ25min direction_same direction_opp  Y  \n",
       "22                 0                 0              0             1  1  \n",
       "23                 0                 0              0             1  0  \n",
       "24                 0                 0              0             1  1  \n",
       "25                 1                 0              0             1  0  \n",
       "26                 0                 0              0             1  0  \n",
       "\n",
       "[5 rows x 24 columns]"
      ]
     },
     "execution_count": 596,
     "metadata": {},
     "output_type": "execute_result"
    }
   ],
   "source": [
    "df = pd.DataFrame(data_clean2)\n",
    "df.head()"
   ]
  },
  {
   "cell_type": "markdown",
   "metadata": {},
   "source": [
    "4. What proportion of the total observations chose to accept the coupon? \n",
    "\n"
   ]
  },
  {
   "cell_type": "code",
   "execution_count": 598,
   "metadata": {},
   "outputs": [
    {
     "name": "stdout",
     "output_type": "stream",
     "text": [
      "57 % of participants accepted the coupon\n",
      "43 % of participants accepted the coupon\n"
     ]
    }
   ],
   "source": [
    "yes = len(df[df['Y'] == 1])\n",
    "no = len(df[df['Y'] == 0])\n",
    "print(f'{round(yes/len(df)*100)} % of participants accepted the coupon')\n",
    "print(f'{round(no/len(df)*100)} % of participants accepted the coupon')"
   ]
  },
  {
   "cell_type": "markdown",
   "metadata": {},
   "source": [
    "5. Use a bar plot to visualize the `coupon` column."
   ]
  },
  {
   "cell_type": "code",
   "execution_count": 600,
   "metadata": {},
   "outputs": [
    {
     "data": {
      "image/png": "[encoded data removed]",
      "text/plain": [
       "<Figure size 640x480 with 1 Axes>"
      ]
     },
     "metadata": {},
     "output_type": "display_data"
    }
   ],
   "source": [
    "plot_y = pd.DataFrame()\n",
    "plot_y['Responses'] = df['Y'].map({1:'Yes', 0:'No'})\n",
    "ax=sns.countplot(x='Responses', data = plot_y)\n",
    "plt.ylabel('Count')\n",
    "total = len(plot_y)\n",
    "for p in ax.patches:\n",
    "    count = p.get_height()\n",
    "    percentage = f'{count / total * 100:.0f}%'\n",
    "    x = p.get_x() + p.get_width() / 2\n",
    "    y = p.get_height()\n",
    "    ax.annotate(percentage, (x, y), ha='center', va='bottom')\n",
    "plt.show()"
   ]
  },
  {
   "cell_type": "markdown",
   "metadata": {},
   "source": [
    "6. Use a histogram to visualize the temperature column."
   ]
  },
  {
   "cell_type": "code",
   "execution_count": 602,
   "metadata": {},
   "outputs": [
    {
     "data": {
      "text/plain": [
       "Text(0, 0.5, 'Frequency')"
      ]
     },
     "execution_count": 602,
     "metadata": {},
     "output_type": "execute_result"
    },
    {
     "data": {
      "image/png": "[encoded data removed]",
      "text/plain": [
       "<Figure size 800x600 with 1 Axes>"
      ]
     },
     "metadata": {},
     "output_type": "display_data"
    }
   ],
   "source": [
    "df_plot = df.copy()\n",
    "df_plot['Y'] = df_plot['Y'].astype('str')\n",
    "df_plot['temperature'] = df_plot['temperature'].astype('str')\n",
    "order = list(df_plot['temperature'].unique())\n",
    "order.sort()\n",
    "# print(order)\n",
    "# df_plot.dtypes\n",
    "# print(df_plot['Y'].unique())\n",
    "# print(df_plot['temperature'].unique())\n",
    "\n",
    "\n",
    "plt.figure(figsize=(8, 6))\n",
    "# sns.histplot(df, x='temperature', bins=3, kde=False, discrete=True, palette='viridis', hue='Y')\n",
    "sns.countplot(data=df_plot, x='temperature', palette='viridis', hue='Y', order=order)\n",
    "\n",
    "# Add title and labels\n",
    "plt.title('Histogram of Temperatures')\n",
    "plt.xlabel('Temperature')\n",
    "plt.ylabel('Frequency')"
   ]
  },
  {
   "cell_type": "markdown",
   "metadata": {},
   "source": [
    "**Investigating the Bar Coupons**\n",
    "\n",
    "Now, we will lead you through an exploration of just the bar related coupons.  \n",
    "\n",
    "1. Create a new `DataFrame` that contains just the bar coupons.\n"
   ]
  },
  {
   "cell_type": "code",
   "execution_count": 604,
   "metadata": {},
   "outputs": [],
   "source": [
    "df_bar = df.query('coupon == \"Bar\"')\n",
    "# print(df_bar.index)\n",
    "# df_bar.head()"
   ]
  },
  {
   "cell_type": "code",
   "execution_count": 605,
   "metadata": {},
   "outputs": [],
   "source": [
    "# df_bar = df_bar.reset_index(drop=True)\n",
    "# print(df_bar.index)\n",
    "# df_bar.head()"
   ]
  },
  {
   "cell_type": "code",
   "execution_count": 606,
   "metadata": {},
   "outputs": [],
   "source": [
    "# df_bar.loc[0]"
   ]
  },
  {
   "cell_type": "code",
   "execution_count": 607,
   "metadata": {},
   "outputs": [
    {
     "data": {
      "text/html": [
       "<div>\n",
       "<style scoped>\n",
       "    .dataframe tbody tr th:only-of-type {\n",
       "        vertical-align: middle;\n",
       "    }\n",
       "\n",
       "    .dataframe tbody tr th {\n",
       "        vertical-align: top;\n",
       "    }\n",
       "\n",
       "    .dataframe thead th {\n",
       "        text-align: right;\n",
       "    }\n",
       "</style>\n",
       "<table border=\"1\" class=\"dataframe\">\n",
       "  <thead>\n",
       "    <tr style=\"text-align: right;\">\n",
       "      <th></th>\n",
       "      <th>destination</th>\n",
       "      <th>passanger</th>\n",
       "      <th>weather</th>\n",
       "      <th>temperature</th>\n",
       "      <th>time</th>\n",
       "      <th>coupon</th>\n",
       "      <th>expiration</th>\n",
       "      <th>gender</th>\n",
       "      <th>age</th>\n",
       "      <th>maritalStatus</th>\n",
       "      <th>...</th>\n",
       "      <th>Bar</th>\n",
       "      <th>CoffeeHouse</th>\n",
       "      <th>CarryAway</th>\n",
       "      <th>RestaurantLessThan20</th>\n",
       "      <th>Restaurant20To50</th>\n",
       "      <th>toCoupon_GEQ15min</th>\n",
       "      <th>toCoupon_GEQ25min</th>\n",
       "      <th>direction_same</th>\n",
       "      <th>direction_opp</th>\n",
       "      <th>Y</th>\n",
       "    </tr>\n",
       "  </thead>\n",
       "  <tbody>\n",
       "    <tr>\n",
       "      <th>24</th>\n",
       "      <td>No Urgent Place</td>\n",
       "      <td>Friend(s)</td>\n",
       "      <td>Sunny</td>\n",
       "      <td>80</td>\n",
       "      <td>10AM</td>\n",
       "      <td>Bar</td>\n",
       "      <td>1d</td>\n",
       "      <td>Male</td>\n",
       "      <td>21</td>\n",
       "      <td>Single</td>\n",
       "      <td>...</td>\n",
       "      <td>never</td>\n",
       "      <td>less1</td>\n",
       "      <td>4~8</td>\n",
       "      <td>4~8</td>\n",
       "      <td>less1</td>\n",
       "      <td>0</td>\n",
       "      <td>0</td>\n",
       "      <td>0</td>\n",
       "      <td>1</td>\n",
       "      <td>1</td>\n",
       "    </tr>\n",
       "    <tr>\n",
       "      <th>35</th>\n",
       "      <td>Home</td>\n",
       "      <td>Alone</td>\n",
       "      <td>Sunny</td>\n",
       "      <td>55</td>\n",
       "      <td>6PM</td>\n",
       "      <td>Bar</td>\n",
       "      <td>1d</td>\n",
       "      <td>Male</td>\n",
       "      <td>21</td>\n",
       "      <td>Single</td>\n",
       "      <td>...</td>\n",
       "      <td>never</td>\n",
       "      <td>less1</td>\n",
       "      <td>4~8</td>\n",
       "      <td>4~8</td>\n",
       "      <td>less1</td>\n",
       "      <td>0</td>\n",
       "      <td>0</td>\n",
       "      <td>1</td>\n",
       "      <td>0</td>\n",
       "      <td>1</td>\n",
       "    </tr>\n",
       "    <tr>\n",
       "      <th>39</th>\n",
       "      <td>Work</td>\n",
       "      <td>Alone</td>\n",
       "      <td>Sunny</td>\n",
       "      <td>55</td>\n",
       "      <td>7AM</td>\n",
       "      <td>Bar</td>\n",
       "      <td>1d</td>\n",
       "      <td>Male</td>\n",
       "      <td>21</td>\n",
       "      <td>Single</td>\n",
       "      <td>...</td>\n",
       "      <td>never</td>\n",
       "      <td>less1</td>\n",
       "      <td>4~8</td>\n",
       "      <td>4~8</td>\n",
       "      <td>less1</td>\n",
       "      <td>1</td>\n",
       "      <td>1</td>\n",
       "      <td>0</td>\n",
       "      <td>1</td>\n",
       "      <td>1</td>\n",
       "    </tr>\n",
       "    <tr>\n",
       "      <th>46</th>\n",
       "      <td>No Urgent Place</td>\n",
       "      <td>Friend(s)</td>\n",
       "      <td>Sunny</td>\n",
       "      <td>80</td>\n",
       "      <td>10AM</td>\n",
       "      <td>Bar</td>\n",
       "      <td>1d</td>\n",
       "      <td>Male</td>\n",
       "      <td>46</td>\n",
       "      <td>Single</td>\n",
       "      <td>...</td>\n",
       "      <td>never</td>\n",
       "      <td>4~8</td>\n",
       "      <td>1~3</td>\n",
       "      <td>1~3</td>\n",
       "      <td>never</td>\n",
       "      <td>0</td>\n",
       "      <td>0</td>\n",
       "      <td>0</td>\n",
       "      <td>1</td>\n",
       "      <td>0</td>\n",
       "    </tr>\n",
       "    <tr>\n",
       "      <th>57</th>\n",
       "      <td>Home</td>\n",
       "      <td>Alone</td>\n",
       "      <td>Sunny</td>\n",
       "      <td>55</td>\n",
       "      <td>6PM</td>\n",
       "      <td>Bar</td>\n",
       "      <td>1d</td>\n",
       "      <td>Male</td>\n",
       "      <td>46</td>\n",
       "      <td>Single</td>\n",
       "      <td>...</td>\n",
       "      <td>never</td>\n",
       "      <td>4~8</td>\n",
       "      <td>1~3</td>\n",
       "      <td>1~3</td>\n",
       "      <td>never</td>\n",
       "      <td>0</td>\n",
       "      <td>0</td>\n",
       "      <td>1</td>\n",
       "      <td>0</td>\n",
       "      <td>0</td>\n",
       "    </tr>\n",
       "    <tr>\n",
       "      <th>...</th>\n",
       "      <td>...</td>\n",
       "      <td>...</td>\n",
       "      <td>...</td>\n",
       "      <td>...</td>\n",
       "      <td>...</td>\n",
       "      <td>...</td>\n",
       "      <td>...</td>\n",
       "      <td>...</td>\n",
       "      <td>...</td>\n",
       "      <td>...</td>\n",
       "      <td>...</td>\n",
       "      <td>...</td>\n",
       "      <td>...</td>\n",
       "      <td>...</td>\n",
       "      <td>...</td>\n",
       "      <td>...</td>\n",
       "      <td>...</td>\n",
       "      <td>...</td>\n",
       "      <td>...</td>\n",
       "      <td>...</td>\n",
       "      <td>...</td>\n",
       "    </tr>\n",
       "    <tr>\n",
       "      <th>12663</th>\n",
       "      <td>No Urgent Place</td>\n",
       "      <td>Friend(s)</td>\n",
       "      <td>Sunny</td>\n",
       "      <td>80</td>\n",
       "      <td>10PM</td>\n",
       "      <td>Bar</td>\n",
       "      <td>1d</td>\n",
       "      <td>Male</td>\n",
       "      <td>26</td>\n",
       "      <td>Single</td>\n",
       "      <td>...</td>\n",
       "      <td>never</td>\n",
       "      <td>never</td>\n",
       "      <td>1~3</td>\n",
       "      <td>4~8</td>\n",
       "      <td>1~3</td>\n",
       "      <td>1</td>\n",
       "      <td>0</td>\n",
       "      <td>0</td>\n",
       "      <td>1</td>\n",
       "      <td>0</td>\n",
       "    </tr>\n",
       "    <tr>\n",
       "      <th>12664</th>\n",
       "      <td>No Urgent Place</td>\n",
       "      <td>Friend(s)</td>\n",
       "      <td>Sunny</td>\n",
       "      <td>55</td>\n",
       "      <td>10PM</td>\n",
       "      <td>Bar</td>\n",
       "      <td>2h</td>\n",
       "      <td>Male</td>\n",
       "      <td>26</td>\n",
       "      <td>Single</td>\n",
       "      <td>...</td>\n",
       "      <td>never</td>\n",
       "      <td>never</td>\n",
       "      <td>1~3</td>\n",
       "      <td>4~8</td>\n",
       "      <td>1~3</td>\n",
       "      <td>1</td>\n",
       "      <td>0</td>\n",
       "      <td>0</td>\n",
       "      <td>1</td>\n",
       "      <td>0</td>\n",
       "    </tr>\n",
       "    <tr>\n",
       "      <th>12667</th>\n",
       "      <td>No Urgent Place</td>\n",
       "      <td>Alone</td>\n",
       "      <td>Rainy</td>\n",
       "      <td>55</td>\n",
       "      <td>10AM</td>\n",
       "      <td>Bar</td>\n",
       "      <td>1d</td>\n",
       "      <td>Male</td>\n",
       "      <td>26</td>\n",
       "      <td>Single</td>\n",
       "      <td>...</td>\n",
       "      <td>never</td>\n",
       "      <td>never</td>\n",
       "      <td>1~3</td>\n",
       "      <td>4~8</td>\n",
       "      <td>1~3</td>\n",
       "      <td>1</td>\n",
       "      <td>0</td>\n",
       "      <td>0</td>\n",
       "      <td>1</td>\n",
       "      <td>0</td>\n",
       "    </tr>\n",
       "    <tr>\n",
       "      <th>12670</th>\n",
       "      <td>No Urgent Place</td>\n",
       "      <td>Partner</td>\n",
       "      <td>Rainy</td>\n",
       "      <td>55</td>\n",
       "      <td>6PM</td>\n",
       "      <td>Bar</td>\n",
       "      <td>2h</td>\n",
       "      <td>Male</td>\n",
       "      <td>26</td>\n",
       "      <td>Single</td>\n",
       "      <td>...</td>\n",
       "      <td>never</td>\n",
       "      <td>never</td>\n",
       "      <td>1~3</td>\n",
       "      <td>4~8</td>\n",
       "      <td>1~3</td>\n",
       "      <td>1</td>\n",
       "      <td>0</td>\n",
       "      <td>0</td>\n",
       "      <td>1</td>\n",
       "      <td>0</td>\n",
       "    </tr>\n",
       "    <tr>\n",
       "      <th>12682</th>\n",
       "      <td>Work</td>\n",
       "      <td>Alone</td>\n",
       "      <td>Snowy</td>\n",
       "      <td>30</td>\n",
       "      <td>7AM</td>\n",
       "      <td>Bar</td>\n",
       "      <td>1d</td>\n",
       "      <td>Male</td>\n",
       "      <td>26</td>\n",
       "      <td>Single</td>\n",
       "      <td>...</td>\n",
       "      <td>never</td>\n",
       "      <td>never</td>\n",
       "      <td>1~3</td>\n",
       "      <td>4~8</td>\n",
       "      <td>1~3</td>\n",
       "      <td>1</td>\n",
       "      <td>1</td>\n",
       "      <td>0</td>\n",
       "      <td>1</td>\n",
       "      <td>0</td>\n",
       "    </tr>\n",
       "  </tbody>\n",
       "</table>\n",
       "<p>1913 rows × 24 columns</p>\n",
       "</div>"
      ],
      "text/plain": [
       "           destination  passanger weather  temperature  time coupon  \\\n",
       "24     No Urgent Place  Friend(s)   Sunny           80  10AM    Bar   \n",
       "35                Home      Alone   Sunny           55   6PM    Bar   \n",
       "39                Work      Alone   Sunny           55   7AM    Bar   \n",
       "46     No Urgent Place  Friend(s)   Sunny           80  10AM    Bar   \n",
       "57                Home      Alone   Sunny           55   6PM    Bar   \n",
       "...                ...        ...     ...          ...   ...    ...   \n",
       "12663  No Urgent Place  Friend(s)   Sunny           80  10PM    Bar   \n",
       "12664  No Urgent Place  Friend(s)   Sunny           55  10PM    Bar   \n",
       "12667  No Urgent Place      Alone   Rainy           55  10AM    Bar   \n",
       "12670  No Urgent Place    Partner   Rainy           55   6PM    Bar   \n",
       "12682             Work      Alone   Snowy           30   7AM    Bar   \n",
       "\n",
       "      expiration gender age maritalStatus  ...    Bar CoffeeHouse CarryAway  \\\n",
       "24            1d   Male  21        Single  ...  never       less1       4~8   \n",
       "35            1d   Male  21        Single  ...  never       less1       4~8   \n",
       "39            1d   Male  21        Single  ...  never       less1       4~8   \n",
       "46            1d   Male  46        Single  ...  never         4~8       1~3   \n",
       "57            1d   Male  46        Single  ...  never         4~8       1~3   \n",
       "...          ...    ...  ..           ...  ...    ...         ...       ...   \n",
       "12663         1d   Male  26        Single  ...  never       never       1~3   \n",
       "12664         2h   Male  26        Single  ...  never       never       1~3   \n",
       "12667         1d   Male  26        Single  ...  never       never       1~3   \n",
       "12670         2h   Male  26        Single  ...  never       never       1~3   \n",
       "12682         1d   Male  26        Single  ...  never       never       1~3   \n",
       "\n",
       "      RestaurantLessThan20 Restaurant20To50 toCoupon_GEQ15min  \\\n",
       "24                     4~8            less1                 0   \n",
       "35                     4~8            less1                 0   \n",
       "39                     4~8            less1                 1   \n",
       "46                     1~3            never                 0   \n",
       "57                     1~3            never                 0   \n",
       "...                    ...              ...               ...   \n",
       "12663                  4~8              1~3                 1   \n",
       "12664                  4~8              1~3                 1   \n",
       "12667                  4~8              1~3                 1   \n",
       "12670                  4~8              1~3                 1   \n",
       "12682                  4~8              1~3                 1   \n",
       "\n",
       "      toCoupon_GEQ25min direction_same direction_opp  Y  \n",
       "24                    0              0             1  1  \n",
       "35                    0              1             0  1  \n",
       "39                    1              0             1  1  \n",
       "46                    0              0             1  0  \n",
       "57                    0              1             0  0  \n",
       "...                 ...            ...           ... ..  \n",
       "12663                 0              0             1  0  \n",
       "12664                 0              0             1  0  \n",
       "12667                 0              0             1  0  \n",
       "12670                 0              0             1  0  \n",
       "12682                 1              0             1  0  \n",
       "\n",
       "[1913 rows x 24 columns]"
      ]
     },
     "execution_count": 607,
     "metadata": {},
     "output_type": "execute_result"
    }
   ],
   "source": [
    "df_bar"
   ]
  },
  {
   "cell_type": "markdown",
   "metadata": {},
   "source": [
    "2. What proportion of bar coupons were accepted?\n"
   ]
  },
  {
   "cell_type": "code",
   "execution_count": 609,
   "metadata": {},
   "outputs": [
    {
     "name": "stdout",
     "output_type": "stream",
     "text": [
      "41 % of participants accepted the bar coupon\n",
      "59 % of participants did not accept the bar coupon\n"
     ]
    }
   ],
   "source": [
    "yes = len(df_bar.query('Y == 1'))\n",
    "no = len(df_bar.query('Y == 0'))\n",
    "print(f'{round(yes/len(df_bar)*100)} % of participants accepted the bar coupon')\n",
    "print(f'{round(no/len(df_bar)*100)} % of participants did not accept the bar coupon')"
   ]
  },
  {
   "cell_type": "markdown",
   "metadata": {},
   "source": [
    "3. Compare the acceptance rate between those who went to a bar 3 or fewer times a month to those who went more.\n"
   ]
  },
  {
   "cell_type": "code",
   "execution_count": 611,
   "metadata": {},
   "outputs": [
    {
     "name": "stdout",
     "output_type": "stream",
     "text": [
      "37 % of participants who went to the bar less than 3 times a month accepted the coupon\n",
      "69 % of participants who went to the bar more than 3 times a month accepted the coupon\n"
     ]
    }
   ],
   "source": [
    "less_vals = ['never', 'less1', '1~3']\n",
    "more_vals = ['1~3', 'gt8','4~8']\n",
    "\n",
    "total_less = len(df_bar.query('Bar in @less_vals'))\n",
    "yes_less = len(df_bar.query('Y == 1 and Bar in @less_vals'))\n",
    "\n",
    "total_more = len(df_bar.query('Bar in @more_vals'))\n",
    "yes_more = len(df_bar.query('Y == 1 and Bar in @more_vals'))\n",
    "\n",
    "print(f'{round(yes_less/total_less*100)} % of participants who went to the bar less than 3 times a month accepted the coupon')\n",
    "print(f'{round(yes_more/total_more*100)} % of participants who went to the bar more than 3 times a month accepted the coupon')"
   ]
  },
  {
   "cell_type": "markdown",
   "metadata": {},
   "source": [
    "4. Compare the acceptance rate between drivers who go to a bar more than once a month and are over the age of 25 to the all others.  Is there a difference?\n"
   ]
  },
  {
   "cell_type": "code",
   "execution_count": 613,
   "metadata": {},
   "outputs": [
    {
     "name": "stdout",
     "output_type": "stream",
     "text": [
      "69 % of participants over the age of 25 who went to the bar more than 1 times a month accepted the coupon\n",
      "39 % of the other participants accepted the coupon\n"
     ]
    }
   ],
   "source": [
    "more = ['1~3', 'gt8','4~8']\n",
    "less_than25 = ['21','below21']\n",
    "\n",
    "total_group = df_bar.query('Bar in @more and age not in @less_than25')\n",
    "yes_1 = len(total_group.query('Y == 1'))\n",
    "\n",
    "total_others = df_bar.query('Bar not in @more and age in @less_than25')\n",
    "yes_2 = len(total_others.query('Y == 1'))\n",
    "\n",
    "print(f'{round(yes_1/len(total_group)*100)} % of participants over the age of 25 who went to the bar more than 1 times a month accepted the coupon')\n",
    "print(f'{round(yes_2/len(total_others)*100)} % of the other participants accepted the coupon')"
   ]
  },
  {
   "cell_type": "markdown",
   "metadata": {},
   "source": [
    "5. Use the same process to compare the acceptance rate between drivers who go to bars more than once a month and had passengers that were not a kid and had occupations other than farming, fishing, or forestry. \n"
   ]
  },
  {
   "cell_type": "code",
   "execution_count": 615,
   "metadata": {},
   "outputs": [
    {
     "name": "stdout",
     "output_type": "stream",
     "text": [
      "71 % of participants who went to the bar more than 1 times a month and don't have kids in the car and work in the field of farming, fishing and forestry accepted the coupon\n",
      "33 % of participants who went to the bar less than 1 times a month and have kids in the car and don't work in the field of farming, fishing and forestry accepted the coupon\n"
     ]
    }
   ],
   "source": [
    "more = ['1~3', 'gt8','4~8']\n",
    "passanger_kid = ['Kid(s)']\n",
    "occup = ['Farming Fishing & Forestry']\n",
    "\n",
    "total_group = df_bar.query('Bar in @more and passanger not in @passanger_kid and occupation not in @occup')\n",
    "yes_1 = len(total_group.query('Y == 1'))\n",
    "\n",
    "total_others = df_bar.query('Bar not in @more and passanger in @passanger_kid and occupation in @occup')\n",
    "yes_2 = len(total_others.query('Y == 1'))\n",
    "\n",
    "print(f'{round(yes_1/len(total_group)*100)} % of participants who went to the bar more than 1 times a month and don\\'t have kids in the car and work in the field of farming, fishing and forestry accepted the coupon')\n",
    "print(f'{round(yes_2/len(total_others)*100)} % of participants who went to the bar less than 1 times a month and have kids in the car and don\\'t work in the field of farming, fishing and forestry accepted the coupon')"
   ]
  },
  {
   "cell_type": "markdown",
   "metadata": {},
   "source": [
    "6. Compare the acceptance rates between those drivers who:\n",
    "\n",
    "- go to bars more than once a month, had passengers that were not a kid, and were not widowed *OR*\n",
    "- go to bars more than once a month and are under the age of 30 *OR*\n",
    "- go to cheap restaurants more than 4 times a month and income is less than 50K. \n",
    "\n"
   ]
  },
  {
   "cell_type": "code",
   "execution_count": 617,
   "metadata": {},
   "outputs": [
    {
     "name": "stdout",
     "output_type": "stream",
     "text": [
      "\n",
      "The drivers who:\n",
      "- go to bars more than once a month, had passengers that were not a kid, and were not widowed OR\n",
      "- go to bars more than once a month and are under the age of 30 OR\n",
      "- go to cheap restaurants more than 4 times a month and income is less than 50K\n",
      "accepted the bar coupon 61% of the time.\n",
      "\n",
      "The drivers who didn't, accepted the coupon 54% of the time.\n",
      "\n"
     ]
    }
   ],
   "source": [
    "cond1_1 = ['1~3', 'gt8','4~8']\n",
    "cond1_2 = ['Friend(s)', 'Alone', 'Partner']\n",
    "cond1_3 = ['Single', 'Married partner', 'Unmarried partner', 'Divorced']\n",
    "cond2_1 = ['1~3', 'gt8','4~8']\n",
    "cond2_2 = ['below21', '21', '26']\n",
    "cond3_1 = ['4~8','gt8']\n",
    "cond3_2 = ['Less than $12500', '$12500 - $24999', '$25000 - $37499', '$37500 - $49999']\n",
    "\n",
    "condition_query = '(Bar in @cond1_1 and passanger in @cond1_2 and maritalStatus in @cond1_3) or (Bar in @cond2_1 and age in @cond2_1) or (RestaurantLessThan20 in @cond3_1 and income in @cond3_2)'\n",
    "\n",
    "total_group = df.query(condition_query)\n",
    "yes_1 = len(total_group.query('Y == 1'))\n",
    "\n",
    "total_other = df.query(f'not ({condition_query})')\n",
    "yes_2 = len(total_other.query('Y == 1'))\n",
    "\n",
    "print(f'''\n",
    "The drivers who:\n",
    "- go to bars more than once a month, had passengers that were not a kid, and were not widowed OR\n",
    "- go to bars more than once a month and are under the age of 30 OR\n",
    "- go to cheap restaurants more than 4 times a month and income is less than 50K\n",
    "accepted the bar coupon {round(yes_1/len(total_group)*100)}% of the time.\n",
    "\n",
    "The drivers who didn't, accepted the coupon {round(yes_2/len(total_other)*100)}% of the time.\n",
    "''')\n"
   ]
  },
  {
   "cell_type": "markdown",
   "metadata": {},
   "source": [
    "7.  Based on these observations, what do you hypothesize about drivers who accepted the bar coupons?"
   ]
  },
  {
   "cell_type": "markdown",
   "metadata": {},
   "source": [
    "**Findings**\n",
    "\n",
    "Overall, participants of this survey did not accept the coupon.But there are some demographics that are likely to accept the coupon overall.\n",
    "\n",
    "Based on the above analysis:\n",
    "1. Those who go to the bar more than 3 times a month are more likely to accept the coupon.<br>\n",
    "    - asdf\n",
    "2. Those who go to a bar more than once a month and are over the age of 25 are more likely to accept the coupon.<br>\n",
    "    - asdf\n",
    "3. Those who go to bars more than once a month and had passengers that were not a kid and had occupations other than farming, fishing, or forestry are more likely to accept the coupon.<br>\n",
    "    - asdf\n",
    "5. Those who:<br>\n",
    "   - go to the bar frequently, aren't with kids and aren't widowed OR<br>\n",
    "       - people who already go to bars and are likely to be with people who are old enough to go to bars with them<br>\n",
    "   - go to the bar frequently and are under 30 years old OR<br>\n",
    "       - people who already go to bars and are likely to have an active social network\n",
    "   - dine at non-expensive restaurants more than 4 times a month and earn less than $50k a year<br>\n",
    "       - people who eat out often and are not in a high-income bracket<br>\n",
    "    are more likely to accept the coupon.\n",
    "\n",
    "From these results, we can hypothesize that people who are more likely to accept coupons for bars are those who already frequent customers, are over 25 years old, are non-parents who work a \"white collar\" job. Those who also have friends to go to the bar with, eat out often and are not high-income earners are more likely to accept the coupon. "
   ]
  },
  {
   "cell_type": "markdown",
   "metadata": {},
   "source": [
    "### Independent Investigation\n",
    "\n",
    "Using the bar coupon example as motivation, you are to explore one of the other coupon groups and try to determine the characteristics of passengers who accept the coupons.  "
   ]
  },
  {
   "cell_type": "code",
   "execution_count": 621,
   "metadata": {},
   "outputs": [
    {
     "data": {
      "text/html": [
       "<div>\n",
       "<style scoped>\n",
       "    .dataframe tbody tr th:only-of-type {\n",
       "        vertical-align: middle;\n",
       "    }\n",
       "\n",
       "    .dataframe tbody tr th {\n",
       "        vertical-align: top;\n",
       "    }\n",
       "\n",
       "    .dataframe thead th {\n",
       "        text-align: right;\n",
       "    }\n",
       "</style>\n",
       "<table border=\"1\" class=\"dataframe\">\n",
       "  <thead>\n",
       "    <tr style=\"text-align: right;\">\n",
       "      <th></th>\n",
       "      <th>destination</th>\n",
       "      <th>passanger</th>\n",
       "      <th>weather</th>\n",
       "      <th>temperature</th>\n",
       "      <th>time</th>\n",
       "      <th>coupon</th>\n",
       "      <th>expiration</th>\n",
       "      <th>gender</th>\n",
       "      <th>age</th>\n",
       "      <th>maritalStatus</th>\n",
       "      <th>...</th>\n",
       "      <th>Bar</th>\n",
       "      <th>CoffeeHouse</th>\n",
       "      <th>CarryAway</th>\n",
       "      <th>RestaurantLessThan20</th>\n",
       "      <th>Restaurant20To50</th>\n",
       "      <th>toCoupon_GEQ15min</th>\n",
       "      <th>toCoupon_GEQ25min</th>\n",
       "      <th>direction_same</th>\n",
       "      <th>direction_opp</th>\n",
       "      <th>Y</th>\n",
       "    </tr>\n",
       "  </thead>\n",
       "  <tbody>\n",
       "    <tr>\n",
       "      <th>22</th>\n",
       "      <td>No Urgent Place</td>\n",
       "      <td>Alone</td>\n",
       "      <td>Sunny</td>\n",
       "      <td>55</td>\n",
       "      <td>2PM</td>\n",
       "      <td>Restaurant(&lt;20)</td>\n",
       "      <td>1d</td>\n",
       "      <td>Male</td>\n",
       "      <td>21</td>\n",
       "      <td>Single</td>\n",
       "      <td>...</td>\n",
       "      <td>never</td>\n",
       "      <td>less1</td>\n",
       "      <td>4~8</td>\n",
       "      <td>4~8</td>\n",
       "      <td>less1</td>\n",
       "      <td>0</td>\n",
       "      <td>0</td>\n",
       "      <td>0</td>\n",
       "      <td>1</td>\n",
       "      <td>1</td>\n",
       "    </tr>\n",
       "    <tr>\n",
       "      <th>23</th>\n",
       "      <td>No Urgent Place</td>\n",
       "      <td>Friend(s)</td>\n",
       "      <td>Sunny</td>\n",
       "      <td>80</td>\n",
       "      <td>10AM</td>\n",
       "      <td>Coffee House</td>\n",
       "      <td>2h</td>\n",
       "      <td>Male</td>\n",
       "      <td>21</td>\n",
       "      <td>Single</td>\n",
       "      <td>...</td>\n",
       "      <td>never</td>\n",
       "      <td>less1</td>\n",
       "      <td>4~8</td>\n",
       "      <td>4~8</td>\n",
       "      <td>less1</td>\n",
       "      <td>0</td>\n",
       "      <td>0</td>\n",
       "      <td>0</td>\n",
       "      <td>1</td>\n",
       "      <td>0</td>\n",
       "    </tr>\n",
       "    <tr>\n",
       "      <th>24</th>\n",
       "      <td>No Urgent Place</td>\n",
       "      <td>Friend(s)</td>\n",
       "      <td>Sunny</td>\n",
       "      <td>80</td>\n",
       "      <td>10AM</td>\n",
       "      <td>Bar</td>\n",
       "      <td>1d</td>\n",
       "      <td>Male</td>\n",
       "      <td>21</td>\n",
       "      <td>Single</td>\n",
       "      <td>...</td>\n",
       "      <td>never</td>\n",
       "      <td>less1</td>\n",
       "      <td>4~8</td>\n",
       "      <td>4~8</td>\n",
       "      <td>less1</td>\n",
       "      <td>0</td>\n",
       "      <td>0</td>\n",
       "      <td>0</td>\n",
       "      <td>1</td>\n",
       "      <td>1</td>\n",
       "    </tr>\n",
       "    <tr>\n",
       "      <th>25</th>\n",
       "      <td>No Urgent Place</td>\n",
       "      <td>Friend(s)</td>\n",
       "      <td>Sunny</td>\n",
       "      <td>80</td>\n",
       "      <td>10AM</td>\n",
       "      <td>Carry out &amp; Take away</td>\n",
       "      <td>2h</td>\n",
       "      <td>Male</td>\n",
       "      <td>21</td>\n",
       "      <td>Single</td>\n",
       "      <td>...</td>\n",
       "      <td>never</td>\n",
       "      <td>less1</td>\n",
       "      <td>4~8</td>\n",
       "      <td>4~8</td>\n",
       "      <td>less1</td>\n",
       "      <td>1</td>\n",
       "      <td>0</td>\n",
       "      <td>0</td>\n",
       "      <td>1</td>\n",
       "      <td>0</td>\n",
       "    </tr>\n",
       "    <tr>\n",
       "      <th>26</th>\n",
       "      <td>No Urgent Place</td>\n",
       "      <td>Friend(s)</td>\n",
       "      <td>Sunny</td>\n",
       "      <td>80</td>\n",
       "      <td>2PM</td>\n",
       "      <td>Coffee House</td>\n",
       "      <td>1d</td>\n",
       "      <td>Male</td>\n",
       "      <td>21</td>\n",
       "      <td>Single</td>\n",
       "      <td>...</td>\n",
       "      <td>never</td>\n",
       "      <td>less1</td>\n",
       "      <td>4~8</td>\n",
       "      <td>4~8</td>\n",
       "      <td>less1</td>\n",
       "      <td>0</td>\n",
       "      <td>0</td>\n",
       "      <td>0</td>\n",
       "      <td>1</td>\n",
       "      <td>0</td>\n",
       "    </tr>\n",
       "  </tbody>\n",
       "</table>\n",
       "<p>5 rows × 24 columns</p>\n",
       "</div>"
      ],
      "text/plain": [
       "        destination  passanger weather  temperature  time  \\\n",
       "22  No Urgent Place      Alone   Sunny           55   2PM   \n",
       "23  No Urgent Place  Friend(s)   Sunny           80  10AM   \n",
       "24  No Urgent Place  Friend(s)   Sunny           80  10AM   \n",
       "25  No Urgent Place  Friend(s)   Sunny           80  10AM   \n",
       "26  No Urgent Place  Friend(s)   Sunny           80   2PM   \n",
       "\n",
       "                   coupon expiration gender age maritalStatus  ...    Bar  \\\n",
       "22        Restaurant(<20)         1d   Male  21        Single  ...  never   \n",
       "23           Coffee House         2h   Male  21        Single  ...  never   \n",
       "24                    Bar         1d   Male  21        Single  ...  never   \n",
       "25  Carry out & Take away         2h   Male  21        Single  ...  never   \n",
       "26           Coffee House         1d   Male  21        Single  ...  never   \n",
       "\n",
       "   CoffeeHouse CarryAway RestaurantLessThan20 Restaurant20To50  \\\n",
       "22       less1       4~8                  4~8            less1   \n",
       "23       less1       4~8                  4~8            less1   \n",
       "24       less1       4~8                  4~8            less1   \n",
       "25       less1       4~8                  4~8            less1   \n",
       "26       less1       4~8                  4~8            less1   \n",
       "\n",
       "   toCoupon_GEQ15min toCoupon_GEQ25min direction_same direction_opp  Y  \n",
       "22                 0                 0              0             1  1  \n",
       "23                 0                 0              0             1  0  \n",
       "24                 0                 0              0             1  1  \n",
       "25                 1                 0              0             1  0  \n",
       "26                 0                 0              0             1  0  \n",
       "\n",
       "[5 rows x 24 columns]"
      ]
     },
     "execution_count": 621,
     "metadata": {},
     "output_type": "execute_result"
    }
   ],
   "source": [
    "df.head()"
   ]
  },
  {
   "cell_type": "code",
   "execution_count": 622,
   "metadata": {},
   "outputs": [
    {
     "data": {
      "text/plain": [
       "Index(['destination', 'passanger', 'weather', 'temperature', 'time', 'coupon',\n",
       "       'expiration', 'gender', 'age', 'maritalStatus', 'has_children',\n",
       "       'education', 'occupation', 'income', 'Bar', 'CoffeeHouse', 'CarryAway',\n",
       "       'RestaurantLessThan20', 'Restaurant20To50', 'toCoupon_GEQ15min',\n",
       "       'toCoupon_GEQ25min', 'direction_same', 'direction_opp', 'Y'],\n",
       "      dtype='object')"
      ]
     },
     "execution_count": 622,
     "metadata": {},
     "output_type": "execute_result"
    }
   ],
   "source": [
    "df.columns"
   ]
  },
  {
   "cell_type": "code",
   "execution_count": 623,
   "metadata": {},
   "outputs": [
    {
     "data": {
      "text/plain": [
       "array(['Restaurant(<20)', 'Coffee House', 'Bar', 'Carry out & Take away',\n",
       "       'Restaurant(20-50)'], dtype=object)"
      ]
     },
     "execution_count": 623,
     "metadata": {},
     "output_type": "execute_result"
    }
   ],
   "source": [
    "df['coupon'].unique()"
   ]
  },
  {
   "cell_type": "code",
   "execution_count": 624,
   "metadata": {},
   "outputs": [],
   "source": [
    "# print(sorted(df['RestaurantLessThan20'].unique()))\n",
    "# print(sorted(df['Restaurant20To50'].unique()))\n",
    "# print(sorted(df['CarryAway'].unique()))\n",
    "\n",
    "often = ['4~8', 'gt8']\n",
    "not_often = ['1~3', 'less1', 'never']"
   ]
  },
  {
   "cell_type": "code",
   "execution_count": 625,
   "metadata": {},
   "outputs": [],
   "source": [
    "# print(sorted(df['income'].unique(), reverse=True))\n",
    "\n",
    "low_income = ['Less than $12500', '$12500 - $24999', '$25000 - $37499']\n",
    "med_income = ['$37500 - $49999', '$50000 - $62499', '$62500 - $74999']\n",
    "high_income = ['$75000 - $87499', '$87500 - $99999', '$100000 or More']"
   ]
  },
  {
   "cell_type": "code",
   "execution_count": 626,
   "metadata": {},
   "outputs": [
    {
     "name": "stdout",
     "output_type": "stream",
     "text": [
      "['Alone' 'Friend(s)' 'Kid(s)' 'Partner']\n"
     ]
    }
   ],
   "source": [
    "print(df['passanger'].unique())\n",
    "passangers = df['passanger'].unique()"
   ]
  },
  {
   "cell_type": "code",
   "execution_count": 627,
   "metadata": {},
   "outputs": [
    {
     "name": "stdout",
     "output_type": "stream",
     "text": [
      "[0 1]\n"
     ]
    }
   ],
   "source": [
    "print(df['has_children'].unique())"
   ]
  },
  {
   "cell_type": "code",
   "execution_count": 628,
   "metadata": {},
   "outputs": [],
   "source": [
    "df_less = df.query('coupon == \"Restaurant(<20)\"')\n",
    "df_more = df.query('coupon == \"Restaurant(20-50)\"')\n",
    "df_away = df.query('coupon == \"Carry out & Take away\"')"
   ]
  },
  {
   "cell_type": "code",
   "execution_count": 629,
   "metadata": {},
   "outputs": [
    {
     "name": "stdout",
     "output_type": "stream",
     "text": [
      "71% of cheap restaurant coupons were accepted\n",
      "45% of expensive restaurant coupons were accepted\n",
      "74% of take-away restaurant coupons were accepted\n"
     ]
    }
   ],
   "source": [
    "yes_less = len(df_less.query('Y == 1'))\n",
    "yes_more = len(df_more.query('Y == 1'))\n",
    "yes_away = len(df_away.query('Y == 1'))\n",
    "\n",
    "print(f'{round(yes_less/len(df_less) *100)}% of cheap restaurant coupons were accepted')\n",
    "print(f'{round(yes_more/len(df_more) *100)}% of expensive restaurant coupons were accepted')\n",
    "print(f'{round(yes_away/len(df_away) *100)}% of take-away restaurant coupons were accepted')"
   ]
  },
  {
   "cell_type": "code",
   "execution_count": 630,
   "metadata": {
    "scrolled": true
   },
   "outputs": [
    {
     "name": "stdout",
     "output_type": "stream",
     "text": [
      "72.42718446601941% of people who accept coupons from less expensive restaurants are low income earners\n",
      "71.92784667418263% of people who accept coupons from less expensive restaurants are medium income earners\n",
      "67.52717391304348% of people who accept coupons from less expensive restaurants are high income earners\n",
      "\n",
      "\n",
      "76.48376259798432% of people who accept coupons from take-out restaurants are low income earners\n",
      "74.13793103448276% of people who accept coupons from take-out restaurants are medium income earners\n",
      "69.51026856240127% of people who accept coupons from take-out restaurants are high income earners\n",
      "\n",
      "\n",
      "43.18181818181818% of people who accept coupons from more expensive restaurants are low income earners\n",
      "44.650205761316876% of people who accept coupons from more expensive restaurants are medium income earners\n",
      "46.40198511166253% of people who accept coupons from more expensive restaurants are high income earners\n"
     ]
    }
   ],
   "source": [
    "# How often do those who accept a coupon from a type of restaurant also go to other restaurants?\n",
    "low_income = ['Less than $12500', '$12500 - $24999', '$25000 - $37499']\n",
    "med_income = ['$37500 - $49999', '$50000 - $62499', '$62500 - $74999']\n",
    "high_income = ['$75000 - $87499', '$87500 - $99999', '$100000 or More']\n",
    "inc = [low_income, med_income, high_income]\n",
    "names = ['low income', 'medium income', 'high income']\n",
    "\n",
    "\n",
    "yes_less = []\n",
    "for i in inc:\n",
    "    often_r = (len(df_less.query(f'Y == 1 and income in {i}')) / len(df_less.query(f'income in {i}')) * 100)\n",
    "    yes_less.append(often_r)\n",
    "    \n",
    "yes_more = []\n",
    "for i in inc:\n",
    "    often_r = (len(df_more.query(f'Y == 1 and income in {i}')) / len(df_more.query(f'income in {i}')) * 100)\n",
    "    yes_more.append(often_r)\n",
    "\n",
    "yes_away = []\n",
    "for i in inc:\n",
    "    often_r = (len(df_away.query(f'Y == 1 and income in {i}')) / len(df_away.query(f'income in {i}')) * 100)\n",
    "    yes_away.append(often_r)\n",
    "\n",
    "for i, percent in enumerate(yes_less):\n",
    "    print(f'{percent}% of people who accept coupons from less expensive restaurants are {names[i]} earners')\n",
    "print('\\n')\n",
    "\n",
    "for i, percent in enumerate(yes_away):\n",
    "    print(f'{percent}% of people who accept coupons from take-out restaurants are {names[i]} earners')\n",
    "print('\\n')\n",
    "\n",
    "for i, percent in enumerate(yes_more):\n",
    "    print(f'{percent}% of people who accept coupons from more expensive restaurants are {names[i]} earners')"
   ]
  },
  {
   "cell_type": "code",
   "execution_count": 631,
   "metadata": {},
   "outputs": [
    {
     "name": "stdout",
     "output_type": "stream",
     "text": [
      "73% of people who accept coupons from less expensive restaurants also go to inexpensive restaurants often\n",
      "70% of people who accept coupons from less expensive restaurants also go to expensive restaurants often\n",
      "71% of people who accept coupons from less expensive restaurants also go to take-out restaurants often\n",
      "\n",
      "\n",
      "75% of people who accept coupons from take-out restaurants also go to inexpensive restaurants often\n",
      "73% of people who accept coupons from take-out restaurants also go to expensive restaurants often\n",
      "75% of people who accept coupons from take-out restaurants also go to take-out restaurants often\n",
      "\n",
      "\n",
      "48% of people who accept coupons from more expensive restaurants also go to inexpensive restaurants often\n",
      "65% of people who accept coupons from more expensive restaurants also go to expensive restaurants often\n",
      "44% of people who accept coupons from more expensive restaurants also go to take-out restaurants often\n"
     ]
    }
   ],
   "source": [
    "# How often do those who accept a coupon from a type of restaurant also go to other restaurants?\n",
    "restaurants = ['RestaurantLessThan20', 'Restaurant20To50', 'CarryAway']\n",
    "names = ['inexpensive', 'expensive', 'take-out']\n",
    "\n",
    "\n",
    "yes_less = []\n",
    "for r in restaurants:\n",
    "    often_r = round(len(df_less.query(f'Y == 1 and {r} in @often')) / len(df_less.query(f'{r} in @often')) * 100)\n",
    "    yes_less.append(often_r)\n",
    "    \n",
    "yes_more = []\n",
    "for r in restaurants:\n",
    "    often_r = round(len(df_more.query(f'Y == 1 and {r} in @often')) / len(df_more.query(f'{r} in @often')) * 100)\n",
    "    yes_more.append(often_r)\n",
    "\n",
    "yes_away = []\n",
    "for r in restaurants:\n",
    "    often_r = round(len(df_away.query(f'Y == 1 and {r} in @often')) / len(df_away.query(f'{r} in @often')) * 100)\n",
    "    yes_away.append(often_r)\n",
    "\n",
    "for i, percent in enumerate(yes_less):\n",
    "    print(f'{percent}% of people who accept coupons from less expensive restaurants also go to {names[i]} restaurants often')\n",
    "print('\\n')\n",
    "\n",
    "for i, percent in enumerate(yes_away):\n",
    "    print(f'{percent}% of people who accept coupons from take-out restaurants also go to {names[i]} restaurants often')\n",
    "print('\\n')\n",
    "\n",
    "for i, percent in enumerate(yes_more):\n",
    "    print(f'{percent}% of people who accept coupons from more expensive restaurants also go to {names[i]} restaurants often')"
   ]
  },
  {
   "cell_type": "code",
   "execution_count": 632,
   "metadata": {},
   "outputs": [],
   "source": [
    "# Is there a correlation between people who accept a certain type of coupon and the kind of restaurant they go to?"
   ]
  },
  {
   "cell_type": "code",
   "execution_count": 633,
   "metadata": {},
   "outputs": [
    {
     "data": {
      "image/png": "[encoded data removed]",
      "text/plain": [
       "<Figure size 1500x300 with 5 Axes>"
      ]
     },
     "metadata": {},
     "output_type": "display_data"
    }
   ],
   "source": [
    "import seaborn as sns\n",
    "import matplotlib.pyplot as plt\n",
    "import pandas as pd\n",
    "\n",
    "# Assuming df is already defined and includes the necessary columns\n",
    "\n",
    "df_business = df[['Y', 'coupon', 'CarryAway', 'RestaurantLessThan20', 'Restaurant20To50', 'Bar', 'CoffeeHouse']].copy()\n",
    "variables = ['Bar', 'CoffeeHouse', 'CarryAway', 'RestaurantLessThan20', 'Restaurant20To50']\n",
    "categories = ['never', 'less1', '1~3', '4~8', 'gt8']\n",
    "\n",
    "for column in variables:\n",
    "    df_business.loc[:, column] = pd.Categorical(df_business.loc[:, column], categories=categories, ordered=True)\n",
    "\n",
    "label_mapping = {\n",
    "    'Restaurant(<20)': 'Restaurant ↓',\n",
    "    'Restaurant(20-50)': 'Restaurant ↑',\n",
    "    'Bar': 'Bar',\n",
    "    'Carry out & Take away': 'Takeaway',\n",
    "    'Coffee House': 'Coffee House'\n",
    "}\n",
    "\n",
    "column_mapping = {\n",
    "    'RestaurantLessThan20': 'Restaurant ↓',\n",
    "    'Restaurant20To50': 'Restaurant ↑',\n",
    "    'Bar': 'Bar',\n",
    "    'CarryAway': 'Takeaway',\n",
    "    'CoffeeHouse': 'Coffee House'\n",
    "}\n",
    "\n",
    "# Replace the values in the 'coupon' column using .loc to avoid SettingWithCopyWarning\n",
    "df_business.loc[:, 'coupon'] = df_business['coupon'].replace(label_mapping)\n",
    "\n",
    "# Apply the column name mapping\n",
    "df_business.rename(columns=column_mapping, inplace=True)\n",
    "\n",
    "# Updated variables list with new column names in the desired order\n",
    "updated_variables = ['Coffee House', 'Takeaway', 'Restaurant ↓', 'Restaurant ↑', 'Bar']\n",
    "\n",
    "# Include 'coupon' in the melt function to ensure it is retained\n",
    "melted_df = pd.melt(df_business, id_vars=['coupon'], value_vars=updated_variables)\n",
    "\n",
    "# Create the FacetGrid with the specified order\n",
    "g = sns.FacetGrid(melted_df, col=\"variable\", col_order=updated_variables, sharex=False, sharey=True)\n",
    "g.map(sns.histplot, \"value\", binwidth=1, discrete=True)\n",
    "\n",
    "# Set x-ticks and labels for each subplot\n",
    "for ax, label in zip(g.axes.flat, updated_variables):\n",
    "    ax.set_xticks(range(len(categories)))\n",
    "    ax.set_xticklabels(categories, ha='right')\n",
    "    ax.set_xlabel('Monthly Visits')\n",
    "    ax.set_title(f'Business = {label}')\n",
    "\n",
    "plt.show()\n"
   ]
  },
  {
   "cell_type": "code",
   "execution_count": 643,
   "metadata": {},
   "outputs": [
    {
     "data": {
      "image/png": "[encoded data removed]",
      "text/plain": [
       "<Figure size 1875x1250 with 25 Axes>"
      ]
     },
     "metadata": {},
     "output_type": "display_data"
    }
   ],
   "source": [
    "import seaborn as sns\n",
    "import matplotlib.pyplot as plt\n",
    "import pandas as pd\n",
    "\n",
    "# Assuming df is already defined and includes the necessary columns\n",
    "\n",
    "df_business = df[['Y', 'coupon', 'CarryAway', 'RestaurantLessThan20', 'Restaurant20To50', 'Bar', 'CoffeeHouse']]\n",
    "variables = ['Bar', 'CoffeeHouse', 'CarryAway', 'RestaurantLessThan20', 'Restaurant20To50']\n",
    "categories = ['never', 'less1', '1~3', '4~8', 'gt8']\n",
    "\n",
    "for column in variables:\n",
    "    df_business.loc[:, column] = pd.Categorical(df_business.loc[:, column], categories=categories, ordered=True)\n",
    "\n",
    "label_mapping = {\n",
    "    'Restaurant(<20)': 'Restaurant ↓',\n",
    "    'Restaurant(20-50)': 'Restaurant ↑',\n",
    "    'Bar': 'Bar',\n",
    "    'Carry out & Take away': 'Takeaway',\n",
    "    'Coffee House': 'Coffee House'\n",
    "}\n",
    "\n",
    "column_mapping = {\n",
    "    'RestaurantLessThan20': 'Restaurant ↓',\n",
    "    'Restaurant20To50': 'Restaurant ↑',\n",
    "    'Bar': 'Bar',\n",
    "    'CarryAway': 'Takeaway',\n",
    "    'CoffeeHouse': 'Coffee House'\n",
    "}\n",
    "\n",
    "# Replace the values in the 'coupon' column using .loc to avoid SettingWithCopyWarning\n",
    "df_business.loc[:, 'coupon'] = df_business['coupon'].replace(label_mapping)\n",
    "\n",
    "# Filter data for people who accepted the coupon\n",
    "accepted_df = df_business[df_business['Y'] == 1].copy()\n",
    "\n",
    "# Apply the column name mapping on the copy\n",
    "accepted_df.rename(columns=column_mapping, inplace=True)\n",
    "\n",
    "# Updated variables list with new column names in the desired order\n",
    "updated_variables = ['Coffee House', 'Takeaway', 'Restaurant ↓', 'Restaurant ↑', 'Bar']\n",
    "\n",
    "# Ensure 'coupon' is included in the DataFrame\n",
    "variables_renamed = list(column_mapping.values())\n",
    "df_business = accepted_df[variables_renamed + ['coupon']]\n",
    "\n",
    "# Create the FacetGrid with specified order for both rows and columns\n",
    "g = sns.FacetGrid(pd.melt(df_business, id_vars=['coupon']), col=\"variable\", row=\"coupon\", \n",
    "                  col_order=updated_variables, row_order=updated_variables, sharex=False, sharey=True, aspect=1.5, height=2.5)\n",
    "g.map(sns.histplot, \"value\", binwidth=1, discrete=True)\n",
    "\n",
    "# Set x-ticks and labels for each subplot\n",
    "for ax in g.axes.flat:\n",
    "    ax.set_xticks(range(len(categories)))\n",
    "    ax.set_xticklabels(categories, ha='right')\n",
    "    ax.set_xlabel('Monthly Visits')\n",
    "    \n",
    "    # Extract the current title\n",
    "    title_parts = ax.get_title().split('|')\n",
    "    business = title_parts[0].strip().replace(\"coupon = \", \"\")\n",
    "    variable = title_parts[1].strip().replace(\"variable = \", \"\")\n",
    "    \n",
    "    # Set the new title with multiline format\n",
    "    ax.set_title(f'Business: {business}\\nAccepted Coupon: {variable}')\n",
    "\n",
    "# Adjust spacing to avoid overlap\n",
    "plt.subplots_adjust(hspace=0.6,)\n",
    "\n",
    "plt.show()\n"
   ]
  },
  {
   "cell_type": "code",
   "execution_count": 645,
   "metadata": {},
   "outputs": [
    {
     "name": "stdout",
     "output_type": "stream",
     "text": [
      "Index(['destination', 'passanger', 'weather', 'temperature', 'time', 'coupon',\n",
      "       'expiration', 'gender', 'age', 'maritalStatus', 'has_children',\n",
      "       'education', 'occupation', 'income', 'Bar', 'CoffeeHouse', 'CarryAway',\n",
      "       'RestaurantLessThan20', 'Restaurant20To50', 'toCoupon_GEQ15min',\n",
      "       'toCoupon_GEQ25min', 'direction_same', 'direction_opp', 'Y'],\n",
      "      dtype='object')\n"
     ]
    },
    {
     "data": {
      "image/png": "[encoded data removed]",
      "text/plain": [
       "<Figure size 1000x800 with 2 Axes>"
      ]
     },
     "metadata": {},
     "output_type": "display_data"
    }
   ],
   "source": [
    "df_filtered = df.copy()\n",
    "# df_filtered = df\n",
    "# Define a mapping to convert categorical frequency data to numerical values\n",
    "frequency_mapping = {\n",
    "    'never': 0,\n",
    "    'less1': 1,\n",
    "    '1~3': 2,\n",
    "    '4~8': 3,\n",
    "    'gt8': 4\n",
    "}\n",
    "\n",
    "# Apply the mapping to the relevant columns using .loc to avoid SettingWithCopyWarning\n",
    "df_filtered.loc[:, 'CarryAway'] = df_filtered['CarryAway'].map(frequency_mapping)\n",
    "df_filtered.loc[:, 'RestaurantLessThan20'] = df_filtered['RestaurantLessThan20'].map(frequency_mapping)\n",
    "df_filtered.loc[:, 'Restaurant20To50'] = df_filtered['Restaurant20To50'].map(frequency_mapping)\n",
    "df_filtered.loc[:, 'Bar'] = df_filtered['Bar'].map(frequency_mapping)\n",
    "df_filtered.loc[:, 'CoffeeHouse'] = df_filtered['CoffeeHouse'].map(frequency_mapping)\n",
    "print(df_filtered.columns)\n",
    "correlation_matrix = df_filtered[['CarryAway', 'RestaurantLessThan20', 'Restaurant20To50', 'Bar', 'CoffeeHouse']].corr()\n",
    "\n",
    "plt.figure(figsize=(10, 8))\n",
    "sns.heatmap(correlation_matrix, annot=True, cmap='viridis', fmt=\".2f\")\n",
    "plt.title('Correlation Matrix of Business Visit Frequencies')\n",
    "plt.show()\n"
   ]
  },
  {
   "cell_type": "code",
   "execution_count": 647,
   "metadata": {},
   "outputs": [
    {
     "name": "stdout",
     "output_type": "stream",
     "text": [
      "              Variable1             Variable2  Correlation\n",
      "0  RestaurantLessThan20      Restaurant20To50     0.405207\n",
      "1             CarryAway  RestaurantLessThan20     0.405206\n",
      "2  RestaurantLessThan20           CoffeeHouse     0.304643\n",
      "3      Restaurant20To50                   Bar     0.276557\n",
      "4                   Bar           CoffeeHouse     0.252088\n",
      "5      Restaurant20To50           CoffeeHouse     0.246870\n",
      "6             CarryAway           CoffeeHouse     0.224194\n",
      "7             CarryAway                   Bar     0.197706\n",
      "8             CarryAway      Restaurant20To50     0.178708\n",
      "9  RestaurantLessThan20                   Bar     0.158937\n"
     ]
    }
   ],
   "source": [
    "# Convert the correlation matrix to a DataFrame and unstack it\n",
    "correlation_pairs = correlation_matrix.unstack().reset_index()\n",
    "correlation_pairs.columns = ['Variable1', 'Variable2', 'Correlation']\n",
    "\n",
    "# Remove duplicate pairs and keep only one of each pair\n",
    "correlation_pairs = correlation_pairs[correlation_pairs['Variable1'] != correlation_pairs['Variable2']]\n",
    "correlation_pairs = correlation_pairs.drop_duplicates(subset=['Correlation'], keep='first')\n",
    "\n",
    "# Sort the pairs by absolute correlation value in descending order\n",
    "correlation_pairs = pd.DataFrame(correlation_pairs.reindex(correlation_pairs['Correlation'].abs().sort_values(ascending=False).index)).reset_index(drop=True)\n",
    "\n",
    "print(correlation_pairs)"
   ]
  },
  {
   "cell_type": "code",
   "execution_count": null,
   "metadata": {},
   "outputs": [],
   "source": []
  },
  {
   "cell_type": "code",
   "execution_count": null,
   "metadata": {},
   "outputs": [],
   "source": []
  },
  {
   "cell_type": "code",
   "execution_count": null,
   "metadata": {},
   "outputs": [],
   "source": []
  },
  {
   "cell_type": "code",
   "execution_count": null,
   "metadata": {},
   "outputs": [],
   "source": []
  },
  {
   "cell_type": "code",
   "execution_count": null,
   "metadata": {},
   "outputs": [],
   "source": []
  },
  {
   "cell_type": "code",
   "execution_count": null,
   "metadata": {},
   "outputs": [],
   "source": []
  },
  {
   "cell_type": "code",
   "execution_count": null,
   "metadata": {},
   "outputs": [],
   "source": []
  },
  {
   "cell_type": "code",
   "execution_count": null,
   "metadata": {},
   "outputs": [],
   "source": []
  },
  {
   "cell_type": "code",
   "execution_count": null,
   "metadata": {},
   "outputs": [],
   "source": []
  },
  {
   "cell_type": "code",
   "execution_count": null,
   "metadata": {},
   "outputs": [],
   "source": []
  },
  {
   "cell_type": "code",
   "execution_count": null,
   "metadata": {},
   "outputs": [],
   "source": []
  },
  {
   "cell_type": "code",
   "execution_count": null,
   "metadata": {},
   "outputs": [],
   "source": []
  },
  {
   "cell_type": "code",
   "execution_count": null,
   "metadata": {},
   "outputs": [],
   "source": [
    "####### make graphs for every result"
   ]
  }
 ],
 "metadata": {
  "kernelspec": {
   "display_name": "Python 3 (ipykernel)",
   "language": "python",
   "name": "python3"
  },
  "language_info": {
   "codemirror_mode": {
    "name": "ipython",
    "version": 3
   },
   "file_extension": ".py",
   "mimetype": "text/x-python",
   "name": "python",
   "nbconvert_exporter": "python",
   "pygments_lexer": "ipython3",
   "version": "3.11.7"
  },
  "widgets": {
   "application/vnd.jupyter.widget-state+json": {
    "state": {},
    "version_major": 2,
    "version_minor": 0
   }
  }
 },
 "nbformat": 4,
 "nbformat_minor": 4
}
